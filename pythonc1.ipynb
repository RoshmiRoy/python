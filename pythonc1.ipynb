{
  "nbformat": 4,
  "nbformat_minor": 0,
  "metadata": {
    "colab": {
      "name": "pythonc1.ipynb",
      "provenance": [],
      "collapsed_sections": [],
      "authorship_tag": "ABX9TyOjywlD+9R3hU5NEycVLkNp",
      "include_colab_link": true
    },
    "kernelspec": {
      "display_name": "Python 3",
      "name": "python3"
    }
  },
  "cells": [
    {
      "cell_type": "markdown",
      "metadata": {
        "id": "view-in-github",
        "colab_type": "text"
      },
      "source": [
        "<a href=\"https://colab.research.google.com/github/RoshmiRoy/python/blob/main/pythonc1.ipynb\" target=\"_parent\"><img src=\"https://colab.research.google.com/assets/colab-badge.svg\" alt=\"Open In Colab\"/></a>"
      ]
    },
    {
      "cell_type": "code",
      "metadata": {
        "colab": {
          "base_uri": "https://localhost:8080/"
        },
        "id": "RyamKakxowh2",
        "outputId": "5ee287f9-e508-4de8-fc66-d15d40619a10"
      },
      "source": [
        "#print an integer\r\n",
        "a = 5\r\n",
        "print(a)\r\n"
      ],
      "execution_count": null,
      "outputs": [
        {
          "output_type": "stream",
          "text": [
            "5\n"
          ],
          "name": "stdout"
        }
      ]
    },
    {
      "cell_type": "code",
      "metadata": {
        "colab": {
          "base_uri": "https://localhost:8080/"
        },
        "id": "UPaxfVUruims",
        "outputId": "42924ab1-ce26-4534-8ed4-b97b9e402ea8"
      },
      "source": [
        " #add two numbers\r\n",
        " number1 = input(\"first number:\")\r\n",
        " number2 = input(\"second number:\")\r\n",
        " sum = int(number1) + int (number2)\r\n",
        " print(\"sum of {0} and {1} is {2}\" . format (number1, number2 , sum))"
      ],
      "execution_count": null,
      "outputs": [
        {
          "output_type": "stream",
          "text": [
            "first number:2\n",
            "second number:2\n",
            "sum of 2 and 2 is 4\n"
          ],
          "name": "stdout"
        }
      ]
    },
    {
      "cell_type": "code",
      "metadata": {
        "colab": {
          "base_uri": "https://localhost:8080/"
        },
        "id": "YM3cJ41LvaHp",
        "outputId": "055b1780-e93b-47b0-c614-b26d9ac30847"
      },
      "source": [
        "#multiply two floating point numbers\r\n",
        "number1 = input(\"first number:\")\r\n",
        "number2 = input(\"second number:\")\r\n",
        "mul = float(number1) * float (number2)\r\n",
        "print(\"multiplication of {0} and {1} is {2}\". format (number1, number2,mul))\r\n"
      ],
      "execution_count": null,
      "outputs": [
        {
          "output_type": "stream",
          "text": [
            "first number:2.5\n",
            "second number:6.5\n",
            "multiplication of 2.5 and 6.5 is 16.25\n"
          ],
          "name": "stdout"
        }
      ]
    },
    {
      "cell_type": "code",
      "metadata": {
        "colab": {
          "base_uri": "https://localhost:8080/"
        },
        "id": "p-Y44G7YxYN4",
        "outputId": "dcfaebe8-12f5-4bb3-b080-5da1cc82fbe1"
      },
      "source": [
        "#demostrate data type\r\n",
        "print(\"hello, world!\")\r\n"
      ],
      "execution_count": null,
      "outputs": [
        {
          "output_type": "stream",
          "text": [
            "hello, world!\n"
          ],
          "name": "stdout"
        }
      ]
    },
    {
      "cell_type": "code",
      "metadata": {
        "colab": {
          "base_uri": "https://localhost:8080/"
        },
        "id": "kz7oWOhS23OF",
        "outputId": "0c290053-8087-476a-e743-55c2dcac464b"
      },
      "source": [
        "#swap two numbers\r\n",
        "a = input('enter first number')\r\n",
        "b = input('enter  second number')\r\n",
        "print(\"value of a before swapping:\",a)\r\n",
        "print(\"value of b before swapping:\",b)\r\n",
        "temp = a\r\n",
        "a = b\r\n",
        "b = temp\r\n",
        "print(\"value of a after swapping:\",a)\r\n",
        "print(\"value of b after swapping:\",b)\r\n"
      ],
      "execution_count": null,
      "outputs": [
        {
          "output_type": "stream",
          "text": [
            "enter first number12\n",
            "enter  second number20\n",
            "value of a before swapping: 12\n",
            "value of b before swapping: 20\n",
            "value of a after swapping: 20\n",
            "value of b after swapping: 12\n"
          ],
          "name": "stdout"
        }
      ]
    },
    {
      "cell_type": "code",
      "metadata": {
        "colab": {
          "base_uri": "https://localhost:8080/"
        },
        "id": "pdAkrpeG4SPn",
        "outputId": "b3850eb3-c65b-457f-d32e-85151ac1fabf"
      },
      "source": [
        "#number even or odd\r\n",
        "num = int(input('enter number'))\r\n",
        "if(num % 2) == 0:\r\n",
        " print(\"enter number is even\")\r\n",
        "else:\r\n",
        " print(\"enter number is odd\")\r\n"
      ],
      "execution_count": null,
      "outputs": [
        {
          "output_type": "stream",
          "text": [
            "enter number100\n",
            "enter number is even\n"
          ],
          "name": "stdout"
        }
      ]
    },
    {
      "cell_type": "code",
      "metadata": {
        "colab": {
          "base_uri": "https://localhost:8080/"
        },
        "id": "0gy3VJdV5FoE",
        "outputId": "f771c011-fd0f-4198-d91b-9ac6d8c4d560"
      },
      "source": [
        "#character vowel or consonant\r\n",
        "ch = input(\"enter character\")\r\n",
        "if (ch=='A' or ch=='a' or ch=='E' or ch=='e' or ch=='I' or ch=='i' or ch=='O' or ch=='o' or ch=='U' or ch=='u' ):\r\n",
        "  print(ch, \"is a vowel\")\r\n",
        "else:\r\n",
        "   print(ch, \"is constant\")\r\n"
      ],
      "execution_count": null,
      "outputs": [
        {
          "output_type": "stream",
          "text": [
            "enter characterc\n",
            "c is constant\n"
          ],
          "name": "stdout"
        }
      ]
    },
    {
      "cell_type": "code",
      "metadata": {
        "colab": {
          "base_uri": "https://localhost:8080/"
        },
        "id": "dxypF5akLVF2",
        "outputId": "1e4d0f8f-6493-48a6-dcbf-9df6f4ac7cb0"
      },
      "source": [
        "#largest among three numbers\r\n",
        "num1 = input(\"enter first number\")\r\n",
        "num2 = input(\"enter second number\")\r\n",
        "num3 = input(\"enter third number\")\r\n",
        "if(num1>num2) and (num1>num3):\r\n",
        "  largest=num1\r\n",
        "elif (num2>num1) and (num2>num3):\r\n",
        "  largest=num2  \r\n",
        "else: \r\n",
        "   largest = num3\r\n",
        "   print(\"largest is\" ,largest)"
      ],
      "execution_count": null,
      "outputs": [
        {
          "output_type": "stream",
          "text": [
            "enter first number12\n",
            "enter second number20\n",
            "enter third number45\n",
            "largest is 45\n"
          ],
          "name": "stdout"
        }
      ]
    },
    {
      "cell_type": "code",
      "metadata": {
        "colab": {
          "base_uri": "https://localhost:8080/"
        },
        "id": "DhFBNJIbRYm-",
        "outputId": "fa78d437-8200-4191-aeeb-e3e653a565fb"
      },
      "source": [
        "#leap year\r\n",
        "year =  int (input (\"year\"))\r\n",
        "if year % 4 == 0 :\r\n",
        "  print(year,\"leap\")\r\n",
        "else:\r\n",
        "  print(year,\"not leap\")  \r\n"
      ],
      "execution_count": null,
      "outputs": [
        {
          "output_type": "stream",
          "text": [
            "year2020\n",
            "2020 leap\n"
          ],
          "name": "stdout"
        }
      ]
    },
    {
      "cell_type": "code",
      "metadata": {
        "colab": {
          "base_uri": "https://localhost:8080/"
        },
        "id": "wiMJkDMOSspv",
        "outputId": "70c16e4f-a470-4388-9758-9bedb1d1cc5e"
      },
      "source": [
        "#quoetient and reminder\r\n",
        "a = int (input (\"enter  first number\"))\r\n",
        "b= int (input(\"enter second number\"))\r\n",
        "q = a//b\r\n",
        "r = a % b\r\n",
        "print (\"quoetient is\",q)\r\n",
        "print (\"remainder is \",r)"
      ],
      "execution_count": null,
      "outputs": [
        {
          "output_type": "stream",
          "text": [
            "enter  first number10\n",
            "enter second number5\n",
            "quoetient is 2\n",
            "remainder is  0\n"
          ],
          "name": "stdout"
        }
      ]
    },
    {
      "cell_type": "code",
      "metadata": {
        "colab": {
          "base_uri": "https://localhost:8080/"
        },
        "id": "SGOx9bvHTaY1",
        "outputId": "89f12b5d-0b6b-4be0-e2de-597b5ae3c297"
      },
      "source": [
        "#number positive or negative\r\n",
        "num = float (input (\"enter number\"))\r\n",
        "if num > 0:\r\n",
        "   print(\"positive\")\r\n",
        "else:\r\n",
        "   print(\"nagative\") \r\n",
        "     "
      ],
      "execution_count": null,
      "outputs": [
        {
          "output_type": "stream",
          "text": [
            "enter number-4\n",
            "nagative\n"
          ],
          "name": "stdout"
        }
      ]
    },
    {
      "cell_type": "code",
      "metadata": {
        "colab": {
          "base_uri": "https://localhost:8080/"
        },
        "id": "dDYK8insQ-MB",
        "outputId": "4db6a3b6-4d5f-4792-827f-3d513e5c2b47"
      },
      "source": [
        "#sum of natural numbers\r\n",
        "num = int(input(\"enter number\"))\r\n",
        "if num < 0:\r\n",
        "   print(\"Enter a positive number\")\r\n",
        "else:\r\n",
        "   sum = 0\r\n",
        "   \r\n",
        "   while(num > 0):\r\n",
        "       sum += num\r\n",
        "       num -= 1\r\n",
        "   print(\"The sum is\", sum)\r\n"
      ],
      "execution_count": null,
      "outputs": [
        {
          "output_type": "stream",
          "text": [
            "enter number16\n",
            "The sum is 136\n"
          ],
          "name": "stdout"
        }
      ]
    },
    {
      "cell_type": "code",
      "metadata": {
        "colab": {
          "base_uri": "https://localhost:8080/"
        },
        "id": "SlZNjWxNU2L3",
        "outputId": "a3d677b6-0f6d-4c61-f972-1b85dc2bedd6"
      },
      "source": [
        "#factorial\r\n",
        "a = int (input(\"enter number\"))\r\n",
        "factorial =1\r\n",
        "if a < 0:\r\n",
        "  print(\"print number greater than o\")\r\n",
        "elif a == 0:\r\n",
        "   print(\"factorial of 0 is 1\")\r\n",
        "else:\r\n",
        " for i in range (1, a+1):\r\n",
        "   factorial = factorial * i\r\n",
        "   print(\"factoraial is\", factorial)        "
      ],
      "execution_count": null,
      "outputs": [
        {
          "output_type": "stream",
          "text": [
            "enter number4\n",
            "factoraial is 1\n",
            "factoraial is 2\n",
            "factoraial is 6\n",
            "factoraial is 24\n"
          ],
          "name": "stdout"
        }
      ]
    },
    {
      "cell_type": "code",
      "metadata": {
        "colab": {
          "base_uri": "https://localhost:8080/"
        },
        "id": "NUSqOvjYWQDo",
        "outputId": "d42259ce-40f4-4757-e8a3-3457e6aff33e"
      },
      "source": [
        "#multiplication table of given number\r\n",
        "num = int (input (\"enter number\"))\r\n",
        "print(\"multiplication table of\",num)\r\n",
        "for i in range (1, 11):\r\n",
        "  print(num,\"X\",i,\"=\",num * i)"
      ],
      "execution_count": null,
      "outputs": [
        {
          "output_type": "stream",
          "text": [
            "enter number5\n",
            "multiplication table of 5\n",
            "5 X 1 = 5\n",
            "5 X 2 = 10\n",
            "5 X 3 = 15\n",
            "5 X 4 = 20\n",
            "5 X 5 = 25\n",
            "5 X 6 = 30\n",
            "5 X 7 = 35\n",
            "5 X 8 = 40\n",
            "5 X 9 = 45\n",
            "5 X 10 = 50\n"
          ],
          "name": "stdout"
        }
      ]
    },
    {
      "cell_type": "code",
      "metadata": {
        "colab": {
          "base_uri": "https://localhost:8080/"
        },
        "id": "UVZJ3ypjQdZ6",
        "outputId": "6b27858e-7d04-4970-c140-1dc5db60f854"
      },
      "source": [
        "#lcm of two numbers\r\n",
        "a=int(input(\"Enter the first number:\"))\r\n",
        "b=int(input(\"Enter the second number:\"))\r\n",
        "if(a>b):\r\n",
        "    min1=a\r\n",
        "else:\r\n",
        "    min1=b\r\n",
        "while(1):\r\n",
        "    if(min1%a==0 and min1%b==0):\r\n",
        "        print(\"LCM is:\",min1)\r\n",
        "        break\r\n",
        "    min1=min1+1"
      ],
      "execution_count": null,
      "outputs": [
        {
          "output_type": "stream",
          "text": [
            "Enter the first number:5\n",
            "Enter the second number:2\n",
            "LCM is: 10\n"
          ],
          "name": "stdout"
        }
      ]
    },
    {
      "cell_type": "code",
      "metadata": {
        "colab": {
          "base_uri": "https://localhost:8080/"
        },
        "id": "SwibYu7ZT8Sm",
        "outputId": "2c2b9286-eca2-4cbc-a00f-cb4cd40f87c5"
      },
      "source": [
        "#reverse of number\r\n",
        "n = int(input(\"enter the number\"))\r\n",
        "rev = 0\r\n",
        "while (n>0):\r\n",
        "  digit = n%10\r\n",
        "  rev = rev*10+digit\r\n",
        "  n=n//10\r\n",
        "print(\"reverse of number\",rev)  "
      ],
      "execution_count": null,
      "outputs": [
        {
          "output_type": "stream",
          "text": [
            "enter the number123789\n",
            "reverse of number 987321\n"
          ],
          "name": "stdout"
        }
      ]
    },
    {
      "cell_type": "code",
      "metadata": {
        "colab": {
          "base_uri": "https://localhost:8080/"
        },
        "id": "EQyx_7yyWXdO",
        "outputId": "71f7b6b0-6719-449d-ac55-bf7095d5c165"
      },
      "source": [
        "#power of number\r\n",
        "n = int(input(\"enter number\"))\r\n",
        "e = int(input(\"enter expoential\"))\r\n",
        "power =1\r\n",
        "i = 1\r\n",
        "while (i<=e):\r\n",
        "    power = power * n\r\n",
        "    i = i + 1\r\n",
        "print (\"power is \",power)    "
      ],
      "execution_count": null,
      "outputs": [
        {
          "output_type": "stream",
          "text": [
            "enter number5\n",
            "enter expoential2\n",
            "power is  25\n"
          ],
          "name": "stdout"
        }
      ]
    },
    {
      "cell_type": "code",
      "metadata": {
        "colab": {
          "base_uri": "https://localhost:8080/"
        },
        "id": "_m8tI23qYbOi",
        "outputId": "bba2ec94-d45f-4a34-8fa1-b3a1c2ac2fb2"
      },
      "source": [
        "#count no of digit in given number\r\n",
        "n = int (input(\"enter the number\"))\r\n",
        "c = 0\r\n",
        "while ( n>0):\r\n",
        "   n = n// 10\r\n",
        "   c = c +1\r\n",
        "print (\"no of digit \",c)  "
      ],
      "execution_count": null,
      "outputs": [
        {
          "output_type": "stream",
          "text": [
            "enter the number12304\n",
            "no of digit  5\n"
          ],
          "name": "stdout"
        }
      ]
    },
    {
      "cell_type": "code",
      "metadata": {
        "id": "n_3EuAouaFEE",
        "colab": {
          "base_uri": "https://localhost:8080/"
        },
        "outputId": "9dbd2c91-8141-4a2f-daab-e2e22d0f3841"
      },
      "source": [
        "#palindrome\r\n",
        "n=int(input(\"Enter number:\"))\r\n",
        "temp=n\r\n",
        "rev=0\r\n",
        "while(n>0):\r\n",
        "    dig=n%10\r\n",
        "    rev=rev*10+dig\r\n",
        "    n=n//10\r\n",
        "if(temp==rev):\r\n",
        "    print(\"The number is a palindrome!\")\r\n",
        "else:\r\n",
        "    print(\"The number isn't a palindrome!\")"
      ],
      "execution_count": null,
      "outputs": [
        {
          "output_type": "stream",
          "text": [
            "Enter number:121\n",
            "The number is a palindrome!\n"
          ],
          "name": "stdout"
        }
      ]
    },
    {
      "cell_type": "code",
      "metadata": {
        "colab": {
          "base_uri": "https://localhost:8080/"
        },
        "id": "TqzsR_9COblh",
        "outputId": "37af6f3a-4f67-455b-e13a-751cd3a7f17d"
      },
      "source": [
        "#fibonacci sequence\r\n",
        "\r\n",
        "n = int (input(\"how many  fiboncci number you want\"))\r\n",
        "\r\n",
        "n1, n2 = 0, 1\r\n",
        "i = 0\r\n",
        "if n < 0:\r\n",
        "   print(\"enter positive number\")\r\n",
        "elif n == 1:\r\n",
        "     print(\"fibonacci sequence:\" , n1)\r\n",
        "else:\r\n",
        "    print(\"fibonacci sequence\")     \r\n",
        "    while i < n:\r\n",
        "        print(n1)\r\n",
        "        nth = n1 + n2\r\n",
        "\r\n",
        "        n1 = n2\r\n",
        "        n2  = nth\r\n",
        "        i += 1\r\n"
      ],
      "execution_count": null,
      "outputs": [
        {
          "output_type": "stream",
          "text": [
            "how many  fiboncci number you want4\n",
            "fibonacci sequence\n",
            "0\n",
            "1\n",
            "1\n",
            "2\n"
          ],
          "name": "stdout"
        }
      ]
    }
  ]
}