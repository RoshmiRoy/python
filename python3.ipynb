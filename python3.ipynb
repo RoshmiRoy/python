{
  "nbformat": 4,
  "nbformat_minor": 0,
  "metadata": {
    "colab": {
      "name": "python3.ipynb",
      "provenance": [],
      "collapsed_sections": [],
      "authorship_tag": "ABX9TyNVGfAa+iYoXJGAhx4U/+3/",
      "include_colab_link": true
    },
    "kernelspec": {
      "display_name": "Python 3",
      "name": "python3"
    }
  },
  "cells": [
    {
      "cell_type": "markdown",
      "metadata": {
        "id": "view-in-github",
        "colab_type": "text"
      },
      "source": [
        "<a href=\"https://colab.research.google.com/github/RoshmiRoy/python/blob/main/python3.ipynb\" target=\"_parent\"><img src=\"https://colab.research.google.com/assets/colab-badge.svg\" alt=\"Open In Colab\"/></a>"
      ]
    },
    {
      "cell_type": "code",
      "metadata": {
        "colab": {
          "base_uri": "https://localhost:8080/"
        },
        "id": "dGx0aIYMxJQc",
        "outputId": "b01f8162-0cdb-460e-d12b-963b524a2846"
      },
      "source": [
        "#1\r\n",
        "num=int(input(\"enter the number\"))\r\n",
        "factorial = 1\r\n",
        "if num < 0:\r\n",
        "   print(\"Sorry, factorial does not exist for negative numbers\")\r\n",
        "elif num == 0:\r\n",
        "   print(\"The factorial of 0 is 1\")\r\n",
        "else:\r\n",
        "   for i in range(1,num + 1):\r\n",
        "       factorial = factorial*i\r\n",
        "   print(\"The factorial of\",num,\"is\",factorial)\r\n"
      ],
      "execution_count": null,
      "outputs": [
        {
          "output_type": "stream",
          "text": [
            "enter the number5\n",
            "The factorial of 5 is 120\n"
          ],
          "name": "stdout"
        }
      ]
    },
    {
      "cell_type": "code",
      "metadata": {
        "colab": {
          "base_uri": "https://localhost:8080/"
        },
        "id": "5VmQjazq0joW",
        "outputId": "dea2edec-abfd-4a17-e07a-38640a07cf1c"
      },
      "source": [
        "#8\r\n",
        "def longestLength(a): \r\n",
        "    max1 = len(a[0]) \r\n",
        "    temp = a[0] \r\n",
        "    for i in a: \r\n",
        "        if(len(i) > max1): \r\n",
        "            max1 = len(i) \r\n",
        "            temp = i \r\n",
        "    print(\"The word with the longest length is:\", temp, \" and length is \", max1) \r\n",
        "a = input(\"Enter a list elements separated by space \")\r\n",
        "a = a.split() \r\n",
        "longestLength(a) \r\n"
      ],
      "execution_count": null,
      "outputs": [
        {
          "output_type": "stream",
          "text": [
            "Enter a list elements separated by space india is my country\n",
            "The word with the longest length is: country  and length is  7\n"
          ],
          "name": "stdout"
        }
      ]
    },
    {
      "cell_type": "code",
      "metadata": {
        "colab": {
          "base_uri": "https://localhost:8080/"
        },
        "id": "nIATFBVE1omy",
        "outputId": "82ef987e-1309-4d79-8c1b-2beda1421a0b"
      },
      "source": [
        "#10\r\n",
        "def print_factors(x):\r\n",
        "   print(\"The factors of\",x,\"are:\")\r\n",
        "   for i in range(1, x + 1):\r\n",
        "       if x % i == 0:\r\n",
        "           print(i)\r\n",
        "num = 10\r\n",
        "print_factors(num)\r\n",
        "\r\n"
      ],
      "execution_count": null,
      "outputs": [
        {
          "output_type": "stream",
          "text": [
            "The factors of 10 are:\n",
            "1\n",
            "2\n",
            "5\n",
            "10\n"
          ],
          "name": "stdout"
        }
      ]
    },
    {
      "cell_type": "code",
      "metadata": {
        "colab": {
          "base_uri": "https://localhost:8080/"
        },
        "id": "1GPYlBN_23lW",
        "outputId": "1849e31c-4f61-458f-8a86-e7e03ec4773d"
      },
      "source": [
        "#6\r\n",
        "def char_frequency(str1):\r\n",
        "    dict = {}\r\n",
        "    for n in str1:\r\n",
        "        keys = dict.keys()\r\n",
        "        if n in keys:\r\n",
        "            dict[n] += 1\r\n",
        "        else:\r\n",
        "            dict[n] = 1\r\n",
        "    return dict\r\n",
        "print(char_frequency('facebook.com'))"
      ],
      "execution_count": null,
      "outputs": [
        {
          "output_type": "stream",
          "text": [
            "{'f': 1, 'a': 1, 'c': 2, 'e': 1, 'b': 1, 'o': 3, 'k': 1, '.': 1, 'm': 1}\n"
          ],
          "name": "stdout"
        }
      ]
    },
    {
      "cell_type": "code",
      "metadata": {
        "colab": {
          "base_uri": "https://localhost:8080/"
        },
        "id": "GhOmZGGu3i29",
        "outputId": "6d7fc324-6296-467d-bd27-7963c68f3017"
      },
      "source": [
        "#5\r\n",
        "row = int(input('Enter how many lines? '))\r\n",
        "for i in range(1,row+1):\r\n",
        "    for j in range(1, row+1-i):\r\n",
        "        print(' ', end='')\r\n",
        "    for j in range(1,i+1):\r\n",
        "        print(j, end='') \r\n",
        "    for j in range(i-1,0,-1):\r\n",
        "        print(j, end='')\r\n",
        "    print()"
      ],
      "execution_count": null,
      "outputs": [
        {
          "output_type": "stream",
          "text": [
            "Enter how many lines? 5\n",
            "    1\n",
            "   121\n",
            "  12321\n",
            " 1234321\n",
            "123454321\n"
          ],
          "name": "stdout"
        }
      ]
    },
    {
      "cell_type": "code",
      "metadata": {
        "colab": {
          "base_uri": "https://localhost:8080/"
        },
        "id": "7mxC_jSIXOKq",
        "outputId": "2b1579e3-3912-42f7-880f-bf2f08f7022b"
      },
      "source": [
        "#3\r\n",
        "total = 0\r\n",
        "list1 = [11, 5, 17, 18, 23] \r\n",
        "for ele in range(0, len(list1)):\r\n",
        "    total = total + list1[ele]\r\n",
        "print(\"Sum of all elements in given list: \", total)\r\n",
        "\r\n"
      ],
      "execution_count": null,
      "outputs": [
        {
          "output_type": "stream",
          "text": [
            "Sum of all elements in given list:  74\n"
          ],
          "name": "stdout"
        }
      ]
    },
    {
      "cell_type": "code",
      "metadata": {
        "colab": {
          "base_uri": "https://localhost:8080/"
        },
        "id": "OFZBJft_YiN9",
        "outputId": "014c97e2-3056-4ccc-e799-d7045e6c2e5c"
      },
      "source": [
        "nterms = int(input(\"How many terms? \"))\r\n",
        "n1, n2 = 0, 1\r\n",
        "count = 0\r\n",
        "if nterms <= 0:\r\n",
        "   print(\"Please enter a positive integer\")\r\n",
        "elif nterms == 1:\r\n",
        "   print(\"Fibonacci sequence upto\",nterms,\":\")\r\n",
        "   print(n1)\r\n",
        "else:\r\n",
        "   print(\"Fibonacci sequence:\")\r\n",
        "   while count < nterms:\r\n",
        "       print(n1)\r\n",
        "       nth = n1 + n2\r\n",
        "       n1 = n2\r\n",
        "       n2 = nth\r\n",
        "       count += 1"
      ],
      "execution_count": null,
      "outputs": [
        {
          "output_type": "stream",
          "text": [
            "How many terms? 5\n",
            "Fibonacci sequence:\n",
            "0\n",
            "1\n",
            "1\n",
            "2\n",
            "3\n"
          ],
          "name": "stdout"
        }
      ]
    },
    {
      "cell_type": "code",
      "metadata": {
        "colab": {
          "base_uri": "https://localhost:8080/"
        },
        "id": "kOtIvN6lcg6u",
        "outputId": "2acd6fea-c559-4e3a-d02e-c59ae66bbd3a"
      },
      "source": [
        "#9\r\n",
        "size = 7\r\n",
        "m = (2 * size) - 2\r\n",
        "for i in range(0, size):\r\n",
        "    for j in range(0, m):\r\n",
        "        print(end=\" \")\r\n",
        "    m = m - 1  # decrementing m after each loop\r\n",
        "    for j in range(0, i + 1):\r\n",
        "        # printing full Triangle pyramid using stars\r\n",
        "        print(\"* \", end=' ')\r\n",
        "    print(\" \")"
      ],
      "execution_count": 1,
      "outputs": [
        {
          "output_type": "stream",
          "text": [
            "            *   \n",
            "           *  *   \n",
            "          *  *  *   \n",
            "         *  *  *  *   \n",
            "        *  *  *  *  *   \n",
            "       *  *  *  *  *  *   \n",
            "      *  *  *  *  *  *  *   \n"
          ],
          "name": "stdout"
        }
      ]
    },
    {
      "cell_type": "code",
      "metadata": {
        "colab": {
          "base_uri": "https://localhost:8080/"
        },
        "id": "2TsWZebYcw26",
        "outputId": "b99e016f-2020-4dab-cd86-a9bd90cfbde6"
      },
      "source": [
        "#11\r\n",
        "import math\r\n",
        "r_area=lambda len,ht :len*ht \r\n",
        "t_area=lambda b, ht :b*ht/2\r\n",
        "c_area=lambda rad :math.pi*rad*rad \r\n",
        "print(\"area of rectangle (30,20) is\",r_area(10,20))\r\n",
        "print(\"area of circle (15) is: \",c_area(20))\r\n",
        "print(\"area of triangle (12,20) is\", t_area(22,20))\r\n"
      ],
      "execution_count": null,
      "outputs": [
        {
          "output_type": "stream",
          "text": [
            "area of rectangle (30,20) is 200\n",
            "area of circle (15) is:  1256.6370614359173\n",
            "area of triangle (12,20) is 220.0\n"
          ],
          "name": "stdout"
        }
      ]
    },
    {
      "cell_type": "code",
      "metadata": {
        "colab": {
          "base_uri": "https://localhost:8080/"
        },
        "id": "EHOVLJ3ieSA6",
        "outputId": "2550d2f4-ae5d-4f9f-8b93-8daaa0998911"
      },
      "source": [
        "def add_string(str1):\r\n",
        "  length = len(str1)\r\n",
        "\r\n",
        "  if length > 2:\r\n",
        "    if str1[-3:] == 'ing':\r\n",
        "      str1 += 'ly'\r\n",
        "    else:\r\n",
        "      str1 += 'ing'\r\n",
        "\r\n",
        "  return str1\r\n",
        "print(add_string('crying'))\r\n",
        "print(add_string('think'))\r\n",
        "print(add_string('string'))"
      ],
      "execution_count": null,
      "outputs": [
        {
          "output_type": "stream",
          "text": [
            "cryingly\n",
            "thinking\n",
            "stringly\n"
          ],
          "name": "stdout"
        }
      ]
    },
    {
      "cell_type": "code",
      "metadata": {
        "id": "zuBxobrDfStH",
        "colab": {
          "base_uri": "https://localhost:8080/"
        },
        "outputId": "71a4918b-e390-4ae1-89ac-38f9f4ff123b"
      },
      "source": [
        "#4\r\n",
        "for i in range(1000, 10000, 1):\r\n",
        "   for j in range(32, 100, 1):\r\n",
        "      if i == j*j:\r\n",
        "         string = str(i)\r\n",
        "         if int(string[0])%2 == 0 and int(string[1])%2 == 0 and int(string[2])%2 == 0 and int(string[3])%2 == 0:\r\n",
        "           print(i)"
      ],
      "execution_count": null,
      "outputs": [
        {
          "output_type": "stream",
          "text": [
            "4624\n",
            "6084\n",
            "6400\n",
            "8464\n"
          ],
          "name": "stdout"
        }
      ]
    },
    {
      "cell_type": "code",
      "metadata": {
        "id": "R-VgwO_qnxQk"
      },
      "source": [
        ""
      ],
      "execution_count": null,
      "outputs": []
    }
  ]
}