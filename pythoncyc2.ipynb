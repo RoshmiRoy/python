{
  "nbformat": 4,
  "nbformat_minor": 0,
  "metadata": {
    "colab": {
      "name": "pythoncyc2.ipynb",
      "provenance": [],
      "collapsed_sections": [],
      "authorship_tag": "ABX9TyO9bu5dfO4xLNtwruHBpVd0",
      "include_colab_link": true
    },
    "kernelspec": {
      "name": "python3",
      "display_name": "Python 3"
    }
  },
  "cells": [
    {
      "cell_type": "markdown",
      "metadata": {
        "id": "view-in-github",
        "colab_type": "text"
      },
      "source": [
        "<a href=\"https://colab.research.google.com/github/RoshmiRoy/python/blob/main/pythoncyc2.ipynb\" target=\"_parent\"><img src=\"https://colab.research.google.com/assets/colab-badge.svg\" alt=\"Open In Colab\"/></a>"
      ]
    },
    {
      "cell_type": "code",
      "metadata": {
        "colab": {
          "base_uri": "https://localhost:8080/"
        },
        "id": "3KH3S0oy3exQ",
        "outputId": "07f08ccc-510e-4de9-f780-2d355004fc2c"
      },
      "source": [
        "#18 merge two dictionaries\r\n",
        "thisdict1 = {'a' : 200,  'b': 200}\r\n",
        "thisdict2 = {'x': 300, 'y': 200}\r\n",
        "d = thisdict1.copy()\r\n",
        "d.update(thisdict2)\r\n",
        "print(d)"
      ],
      "execution_count": null,
      "outputs": [
        {
          "output_type": "stream",
          "text": [
            "{'a': 200, 'b': 200, 'x': 300, 'y': 200}\n"
          ],
          "name": "stdout"
        }
      ]
    },
    {
      "cell_type": "code",
      "metadata": {
        "colab": {
          "base_uri": "https://localhost:8080/"
        },
        "id": "0RlvZDwUS5FU",
        "outputId": "7badcc7e-6c61-4510-9047-376ede830a74"
      },
      "source": [
        "#1 address\r\n",
        "def personal_details():\r\n",
        "    name, age = \"roshmi\", 21\r\n",
        "    address = \"edamattom, Kerala, India\"\r\n",
        "    print(\"Name: {}\\nAge: {}\\nAddress: {}\".format(name, age, address))\r\n",
        "\r\n",
        "personal_details()"
      ],
      "execution_count": 6,
      "outputs": [
        {
          "output_type": "stream",
          "text": [
            "Name: roshmi\n",
            "Age: 21\n",
            "Address: edamattom, Kerala, India\n"
          ],
          "name": "stdout"
        }
      ]
    },
    {
      "cell_type": "code",
      "metadata": {
        "colab": {
          "base_uri": "https://localhost:8080/"
        },
        "id": "PwpS50cD635i",
        "outputId": "f16d9215-d073-42b1-97c6-1f3a2d1ecfd4"
      },
      "source": [
        "#10 area of circle\r\n",
        "PI = 3.14\r\n",
        "radius = float(input(' Please Enter the radius of a circle: '))\r\n",
        "area = PI * radius * radius\r\n",
        "print(\" Area Of a Circle = %f\" %area)"
      ],
      "execution_count": null,
      "outputs": [
        {
          "output_type": "stream",
          "text": [
            " Please Enter the radius of a circle: 5\n",
            " Area Of a Circle = 78.500000\n"
          ],
          "name": "stdout"
        }
      ]
    },
    {
      "cell_type": "code",
      "metadata": {
        "colab": {
          "base_uri": "https://localhost:8080/"
        },
        "id": "2H5ZmWljFR8Z",
        "outputId": "111f3c7b-98bf-434a-e418-b88c17bbb615"
      },
      "source": [
        "#14\r\n",
        "a = int(input(\"enter an integer :\"))\r\n",
        "n1 =  int( \"%s\" % a )\r\n",
        "n2 = int(\"%s%s\" % (a,a) )\r\n",
        "n3 = int(\"%s%s%s\" % (a,a,a) )\r\n",
        "print (n1+n2+n3)"
      ],
      "execution_count": null,
      "outputs": [
        {
          "output_type": "stream",
          "text": [
            "enter an integer :5\n",
            "615\n"
          ],
          "name": "stdout"
        }
      ]
    },
    {
      "cell_type": "code",
      "metadata": {
        "colab": {
          "base_uri": "https://localhost:8080/"
        },
        "id": "YDCn6dEfkGGg",
        "outputId": "20b94129-9042-4831-db06-58d376807eac"
      },
      "source": [
        "# 11largest amoung three number\r\n",
        "num1 = input(\"enter first number\")\r\n",
        "num2 = input(\"enter second number\")\r\n",
        "num3 = input(\"enter third number\")\r\n",
        "if(num1>num2) and (num1>num3):\r\n",
        "  largest=num1\r\n",
        "elif (num2>num1) and (num2>num3):\r\n",
        "  largest=num2  \r\n",
        "else: \r\n",
        "   largest = num3\r\n",
        "   print(\"largest is\" ,largest)\r\n"
      ],
      "execution_count": null,
      "outputs": [
        {
          "output_type": "stream",
          "text": [
            "enter first number12\n",
            "enter second number50\n",
            "enter third number55\n",
            "largest is 55\n"
          ],
          "name": "stdout"
        }
      ]
    },
    {
      "cell_type": "code",
      "metadata": {
        "colab": {
          "base_uri": "https://localhost:8080/"
        },
        "id": "bYR9dzuHoYa7",
        "outputId": "b2d45614-e0eb-41b8-ea85-7477475210bd"
      },
      "source": [
        "# 12 file name\r\n",
        "filename = input(\"enter the filename :\")\r\n",
        "f_extns = filename.split(\".\")\r\n",
        "print (\"the extension of the file : \" + repr(f_extns[-1]))"
      ],
      "execution_count": null,
      "outputs": [
        {
          "output_type": "stream",
          "text": [
            "enter the filename :p.ipynb\n",
            "the extension of the file : 'ipynb'\n"
          ],
          "name": "stdout"
        }
      ]
    },
    {
      "cell_type": "code",
      "metadata": {
        "id": "3kFAMVUGqgSA",
        "colab": {
          "base_uri": "https://localhost:8080/"
        },
        "outputId": "0f97d73d-4b35-4dad-a2f4-0f14ed631544"
      },
      "source": [
        "#9\r\n",
        "a = input(\"enter a string\")\r\n",
        "print(\"new string :\")\r\n",
        "print(a[-1:] + a[1:-1] + a[0])\r\n"
      ],
      "execution_count": null,
      "outputs": [
        {
          "output_type": "stream",
          "text": [
            "enter a stringpython\n",
            "new string :\n",
            "nythop\n"
          ],
          "name": "stdout"
        }
      ]
    },
    {
      "cell_type": "code",
      "metadata": {
        "colab": {
          "base_uri": "https://localhost:8080/"
        },
        "id": "23J041tzB4i4",
        "outputId": "805ff390-3ac9-499b-9ef6-82d4c140dd6b"
      },
      "source": [
        "#20\r\n",
        "list = [11, 22, 33, 44, 55]\r\n",
        "print(\"orginal list:\",list)\r\n",
        "for i in list:\r\n",
        "  if(i%2 == 0):\r\n",
        "    list.remove(i)\r\n",
        "print(\"list after removing even number:\" , list)\r\n",
        "    "
      ],
      "execution_count": null,
      "outputs": [
        {
          "output_type": "stream",
          "text": [
            "orginal list: [11, 22, 33, 44, 55]\n",
            "list after removing even number: [11, 33, 55]\n"
          ],
          "name": "stdout"
        }
      ]
    },
    {
      "cell_type": "code",
      "metadata": {
        "colab": {
          "base_uri": "https://localhost:8080/"
        },
        "id": "WfS-pN8AC3DW",
        "outputId": "31430705-b9a4-4230-fcc4-6ef59a052fbf"
      },
      "source": [
        "#3a\r\n",
        "mylist =[12, 34, 56, -9, -7]\r\n",
        "print(\"firstlist:\" , mylist)\r\n",
        "newlist =[x for x in mylist if x > 0]\r\n",
        "print(\"newlist :\",newlist)"
      ],
      "execution_count": null,
      "outputs": [
        {
          "output_type": "stream",
          "text": [
            "firstlist: [12, 34, 56, -9, -7]\n",
            "newlist : [12, 34, 56]\n"
          ],
          "name": "stdout"
        }
      ]
    },
    {
      "cell_type": "code",
      "metadata": {
        "colab": {
          "base_uri": "https://localhost:8080/"
        },
        "id": "2yABf0gcD2t_",
        "outputId": "d0831ebe-378c-4f70-c341-5c5dad372698"
      },
      "source": [
        "#2\r\n",
        "y = int(input(\"enter final leap year:\"))\r\n",
        "print (\"future leap year from 2021\")\r\n",
        "for  x  in range(2021 , y+1):\r\n",
        "   if ((x%4==0) and (x%100!=0 )):\r\n",
        "     print(x)"
      ],
      "execution_count": null,
      "outputs": [
        {
          "output_type": "stream",
          "text": [
            "enter final leap year:2030\n",
            "future leap year from 2021\n",
            "2024\n",
            "2028\n"
          ],
          "name": "stdout"
        }
      ]
    },
    {
      "cell_type": "code",
      "metadata": {
        "colab": {
          "base_uri": "https://localhost:8080/"
        },
        "id": "douoeF5z_WK0",
        "outputId": "4b2fcfe9-e9a8-454c-ad2d-6df252558d85"
      },
      "source": [
        "#3cvowel\n",
        "word = input(\"enter a word\")\n",
        "vowels= ['a', 'e', 'i', 'o', 'u']\n",
        "list= []\n",
        "for x in word:\n",
        "  if(x in vowels and x not in list):\n",
        "    list.append(x)\n",
        "print(\"vowel present in the given word is:\",list)    "
      ],
      "execution_count": null,
      "outputs": [
        {
          "output_type": "stream",
          "text": [
            "enter a wordroshmi\n",
            "vowel present in the given word is: ['o', 'i']\n"
          ],
          "name": "stdout"
        }
      ]
    },
    {
      "cell_type": "code",
      "metadata": {
        "colab": {
          "base_uri": "https://localhost:8080/"
        },
        "id": "cYeZh2UqC_7j",
        "outputId": "c96da44f-9874-468a-8fad-cbd9002f9fc3"
      },
      "source": [
        "#4wordcount\n",
        "def word_count(txt):\n",
        "  counts=dict()\n",
        "  words=txt.split()\n",
        "  for word in words:\n",
        "     if word in counts:\n",
        "        counts[word]+=1\n",
        "     else:\n",
        "       counts[word]=1\n",
        "  return counts\n",
        "print ( word_count('vowels are present here and they are vowels'))"
      ],
      "execution_count": null,
      "outputs": [
        {
          "output_type": "stream",
          "text": [
            "{'vowels': 2, 'are': 2, 'present': 1, 'here': 1, 'and': 1, 'they': 1}\n"
          ],
          "name": "stdout"
        }
      ]
    },
    {
      "cell_type": "code",
      "metadata": {
        "colab": {
          "base_uri": "https://localhost:8080/"
        },
        "id": "W5bjtdJSJfUH",
        "outputId": "5ef3b4a2-3a8a-42eb-fc2c-4e3875d19685"
      },
      "source": [
        "#3b\n",
        "n=int(input(\"enter ther limit\"))\n",
        "l=[]\n",
        "for i in range(0, n):\n",
        "  num=int(input(\"enter no:\"))\n",
        "  l.append(num)\n",
        "print(\"entered list\", l)\n",
        "l1=[i*i for i in l]\n",
        "print(\"list of squres\",l1)"
      ],
      "execution_count": null,
      "outputs": [
        {
          "output_type": "stream",
          "text": [
            "enter ther limit3\n",
            "enter no:2\n",
            "enter no:3\n",
            "enter no:8\n",
            "entered list [2, 3, 8]\n",
            "list of squres [4, 9, 64]\n"
          ],
          "name": "stdout"
        }
      ]
    },
    {
      "cell_type": "code",
      "metadata": {
        "colab": {
          "base_uri": "https://localhost:8080/"
        },
        "id": "r5viusrZO3s7",
        "outputId": "45799971-0a94-481a-ddda-388e90ae58b3"
      },
      "source": [
        "#8\n",
        "def change_char(str1):\n",
        "  char = str1[0]\n",
        "  str1 = str1.replace(char, '$')\n",
        "  str1 = char + str1[1:]\n",
        "  return str1\n",
        "print(change_char('onion')) \n"
      ],
      "execution_count": null,
      "outputs": [
        {
          "output_type": "stream",
          "text": [
            "oni$n\n"
          ],
          "name": "stdout"
        }
      ]
    },
    {
      "cell_type": "code",
      "metadata": {
        "colab": {
          "base_uri": "https://localhost:8080/"
        },
        "id": "awlrjr--VVa_",
        "outputId": "6dc017e7-34b1-4f67-ba20-7140af29b4db"
      },
      "source": [
        "#13\n",
        "word = input(\"enter the colors:\")\n",
        "color_list = word.split(\",\")\n",
        "print (\"the color list is :\", color_list)\n",
        "print (\"the first and lst color :\")\n",
        "print (\"%s %s\"%(color_list[0],color_list[-1]))\n"
      ],
      "execution_count": null,
      "outputs": [
        {
          "output_type": "stream",
          "text": [
            "enter the colors:red,green,blue,yellow,black\n",
            "the color list is : ['red', 'green', 'blue', 'yellow', 'black']\n",
            "the first and lst color :\n",
            "red black\n"
          ],
          "name": "stdout"
        }
      ]
    },
    {
      "cell_type": "code",
      "metadata": {
        "colab": {
          "base_uri": "https://localhost:8080/"
        },
        "id": "YgHNPZWPXdaf",
        "outputId": "1f460b2a-4d13-4112-8948-fa48b54ea123"
      },
      "source": [
        "#15\n",
        "color_list_1 = set([\"White\", \"yellow\",  \"Red\", \"blue\"])\n",
        "color_list_2 = set([\"Red\", \"Green\", \"blue\"])\n",
        "\n",
        "print(color_list_1.difference(color_list_2))"
      ],
      "execution_count": null,
      "outputs": [
        {
          "output_type": "stream",
          "text": [
            "{'yellow', 'White'}\n"
          ],
          "name": "stdout"
        }
      ]
    },
    {
      "cell_type": "code",
      "metadata": {
        "colab": {
          "base_uri": "https://localhost:8080/"
        },
        "id": "Z6hKYCOQqnHZ",
        "outputId": "bdc9ecf6-d85a-4c5d-8a60-54c947912797"
      },
      "source": [
        "y={'david':45,'alex':20,'christy':35,'jincy':10}\r\n",
        "l=list(y.items())\r\n",
        "l.sort()\r\n",
        "print('Ascending order is:',l)\r\n",
        "l=list(y.items())\r\n",
        "l.sort(reverse=True)\r\n",
        "print('Descending order is:',l)\r\n",
        "dict=dict(l)\r\n",
        "print(\"Dictionary\",dict)"
      ],
      "execution_count": null,
      "outputs": [
        {
          "output_type": "stream",
          "text": [
            "Ascending order is: [('alex', 20), ('christy', 35), ('david', 45), ('jincy', 10)]\n",
            "Descending order is: [('jincy', 10), ('david', 45), ('christy', 35), ('alex', 20)]\n",
            "Dictionary {'jincy': 10, 'david': 45, 'christy': 35, 'alex': 20}\n"
          ],
          "name": "stdout"
        }
      ]
    },
    {
      "cell_type": "code",
      "metadata": {
        "colab": {
          "base_uri": "https://localhost:8080/"
        },
        "id": "l9lGPphbqwbd",
        "outputId": "09b7e965-9c82-4998-a180-20a710e273b6"
      },
      "source": [
        "#16\r\n",
        "def chars_mix_up(a, b):\r\n",
        "  new_a = b[:2] + a[2:]\r\n",
        "  new_b = a[:2] + b[2:]\r\n",
        "\r\n",
        "  return new_a + ' ' + new_b\r\n",
        "print(chars_mix_up('roshmi', 'roy'))\r\n",
        "\r\n",
        "\r\n"
      ],
      "execution_count": null,
      "outputs": [
        {
          "output_type": "stream",
          "text": [
            "roshmi roy\n"
          ],
          "name": "stdout"
        }
      ]
    },
    {
      "cell_type": "code",
      "metadata": {
        "id": "RczLOkWar2rS",
        "colab": {
          "base_uri": "https://localhost:8080/"
        },
        "outputId": "b724da09-735f-4be5-98ee-8d891c942bfc"
      },
      "source": [
        "#7 a\r\n",
        "\r\n",
        "list1 = [1, 2, 4, 3, 8]\r\n",
        "list2 = [1, 2, 4, 3, 5]\r\n",
        "print (\"the first list is :\" + str(list1))\r\n",
        "print (\"the second list is :\" + str(list2))\r\n",
        "l1 = len(list1)\r\n",
        "l2 = len(list2)\r\n",
        "print(\"length of list1 :\", l1 , \"and length of list2 :\", l2)\r\n",
        "if l1 == l2:\r\n",
        "   print (\"list are same length\")\r\n",
        "else :\r\n",
        "    print (\"list are of different length\")   "
      ],
      "execution_count": null,
      "outputs": [
        {
          "output_type": "stream",
          "text": [
            "the first list is :[1, 2, 4, 3, 8]\n",
            "the second list is :[1, 2, 4, 3, 5]\n",
            "length of list1 : 5 and length of list2 : 5\n",
            "list are same length\n"
          ],
          "name": "stdout"
        }
      ]
    },
    {
      "cell_type": "code",
      "metadata": {
        "colab": {
          "base_uri": "https://localhost:8080/"
        },
        "id": "FHqyRuJIYf8K",
        "outputId": "d2bdd0c7-ec39-4052-f012-1dca2afb69c1"
      },
      "source": [
        "#7b\r\n",
        "list1 = [1, 2, 4, 3, 8]\r\n",
        "list2 = [1, 2, 4, 3, 5]\r\n",
        "print (\"the first list is :\" + str(list1))\r\n",
        "print (\"the second list is :\" + str(list2))\r\n",
        "sum1 = 0\r\n",
        "sum2 = 0\r\n",
        "for x in range(0, len(list1)):\r\n",
        "    sum1 = sum1 + list1[x]\r\n",
        "print (\"sum of all elements in given list1 :\", sum1)\r\n",
        "for x in range(0, len(list2)):\r\n",
        "   sum2 = sum2 + list2[x]   \r\n",
        "print (\"sum of all elements in given list2 :\", sum2)\r\n",
        "if ( sum1 == sum2):\r\n",
        "   print (\"list sum to same value\") \r\n",
        "else:\r\n",
        "   print(\"list are of different sum\")      "
      ],
      "execution_count": null,
      "outputs": [
        {
          "output_type": "stream",
          "text": [
            "the first list is :[1, 2, 4, 3, 8]\n",
            "the second list is :[1, 2, 4, 3, 5]\n",
            "sum of all elements in given list1 : 18\n",
            "sum of all elements in given list2 : 15\n",
            "list are of different sum\n"
          ],
          "name": "stdout"
        }
      ]
    },
    {
      "cell_type": "code",
      "metadata": {
        "colab": {
          "base_uri": "https://localhost:8080/"
        },
        "id": "0-7wOOu9Yhfa",
        "outputId": "094e8241-91ab-4868-e070-9cb9711e5776"
      },
      "source": [
        "#7c\r\n",
        "list1 = [1, 2, 4, 3, 8]\r\n",
        "list2 = [1, 2, 4, 3, 5]\r\n",
        "print (\"the first  list is :\" + str(list1))\r\n",
        "print (\"the second list is :\" + str(list2))\r\n",
        "print (\"the values occur in both lists :\")\r\n",
        "for x in list1:\r\n",
        "   if(x in list1 and x in list2):\r\n",
        "      print(x)"
      ],
      "execution_count": null,
      "outputs": [
        {
          "output_type": "stream",
          "text": [
            "the first  list is :[1, 2, 4, 3, 8]\n",
            "the second list is :[1, 2, 4, 3, 5]\n",
            "the values occur in both lists :\n",
            "1\n",
            "2\n",
            "4\n",
            "3\n"
          ],
          "name": "stdout"
        }
      ]
    },
    {
      "cell_type": "code",
      "metadata": {
        "colab": {
          "base_uri": "https://localhost:8080/"
        },
        "id": "LgA09wLG9GO4",
        "outputId": "54c07f07-546c-4451-e8d9-163c709ab9e7"
      },
      "source": [
        "#6\r\n",
        "name = input(\"enter the names\")\r\n",
        "list = []\r\n",
        "count = 0\r\n",
        "for x in name:\r\n",
        "   list.append(x)\r\n",
        "   if (x in name and x == 'a'):\r\n",
        "      count = count + 1\r\n",
        "print(count)   "
      ],
      "execution_count": null,
      "outputs": [
        {
          "output_type": "stream",
          "text": [
            "enter the namesmaria,anna,roshmi\n",
            "4\n"
          ],
          "name": "stdout"
        }
      ]
    },
    {
      "cell_type": "code",
      "metadata": {
        "colab": {
          "base_uri": "https://localhost:8080/"
        },
        "id": "JN4rfrDSro8P",
        "outputId": "9396794a-b2d0-4666-e503-739703be006f"
      },
      "source": [
        "#3d\r\n",
        "a = input(\"enter the word\")\r\n",
        "for i in range (len(a)):\r\n",
        "  print(\"ascii value is \",a[i], \"is\", ord(a[i]))"
      ],
      "execution_count": null,
      "outputs": [
        {
          "output_type": "stream",
          "text": [
            "enter the wordhai\n",
            "ascii value is  h is 104\n",
            "ascii value is  a is 97\n",
            "ascii value is  i is 105\n"
          ],
          "name": "stdout"
        }
      ]
    },
    {
      "cell_type": "code",
      "metadata": {
        "colab": {
          "base_uri": "https://localhost:8080/"
        },
        "id": "NnaqE3APuTtf",
        "outputId": "e774bbaa-d5d4-476c-b3e8-d95171b8f82a"
      },
      "source": [
        "#19 \r\n",
        "import math\r\n",
        "print(\"The gcd of 60 and 48 is : \", end=\"\") \r\n",
        "print(math.gcd(60, 48)) "
      ],
      "execution_count": null,
      "outputs": [
        {
          "output_type": "stream",
          "text": [
            "The gcd of 60 and 48 is : 12\n"
          ],
          "name": "stdout"
        }
      ]
    },
    {
      "cell_type": "code",
      "metadata": {
        "id": "vk-oRy0MuSPl",
        "colab": {
          "base_uri": "https://localhost:8080/"
        },
        "outputId": "8520438d-bf32-47d3-ee9b-ab57558b53f6"
      },
      "source": [
        "#5\r\n",
        "x = []\r\n",
        "n = int(input(\"enter any integers:\"))\r\n",
        "for i in range(1, n+1):\r\n",
        "  a = int(input())\r\n",
        "  if (a>100):\r\n",
        "    x.append('over')\r\n",
        "  else:\r\n",
        "     x.append(a)\r\n",
        "print(\"modified list:\", x)       "
      ],
      "execution_count": null,
      "outputs": [
        {
          "output_type": "stream",
          "text": [
            "enter any integers:4\n",
            "100\n",
            "500\n",
            "200\n",
            "300\n",
            "modified list: [100, 'over', 'over', 'over']\n"
          ],
          "name": "stdout"
        }
      ]
    }
  ]
}