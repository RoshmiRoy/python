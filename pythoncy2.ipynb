{
  "nbformat": 4,
  "nbformat_minor": 0,
  "metadata": {
    "colab": {
      "name": "pythoncy2.ipynb",
      "provenance": [],
      "collapsed_sections": [],
      "authorship_tag": "ABX9TyNGJKYcCsIa+HHF898g4sRn",
      "include_colab_link": true
    },
    "kernelspec": {
      "name": "python3",
      "display_name": "Python 3"
    }
  },
  "cells": [
    {
      "cell_type": "markdown",
      "metadata": {
        "id": "view-in-github",
        "colab_type": "text"
      },
      "source": [
        "<a href=\"https://colab.research.google.com/github/RoshmiRoy/python/blob/main/pythoncy2.ipynb\" target=\"_parent\"><img src=\"https://colab.research.google.com/assets/colab-badge.svg\" alt=\"Open In Colab\"/></a>"
      ]
    },
    {
      "cell_type": "code",
      "metadata": {
        "colab": {
          "base_uri": "https://localhost:8080/"
        },
        "id": "3KH3S0oy3exQ",
        "outputId": "07f08ccc-510e-4de9-f780-2d355004fc2c"
      },
      "source": [
        "#18 merge two dictionaries\r\n",
        "thisdict1 = {'a' : 200,  'b': 200}\r\n",
        "thisdict2 = {'x': 300, 'y': 200}\r\n",
        "d = thisdict1.copy()\r\n",
        "d.update(thisdict2)\r\n",
        "print(d)"
      ],
      "execution_count": null,
      "outputs": [
        {
          "output_type": "stream",
          "text": [
            "{'a': 200, 'b': 200, 'x': 300, 'y': 200}\n"
          ],
          "name": "stdout"
        }
      ]
    },
    {
      "cell_type": "code",
      "metadata": {
        "colab": {
          "base_uri": "https://localhost:8080/"
        },
        "id": "PwpS50cD635i",
        "outputId": "f16d9215-d073-42b1-97c6-1f3a2d1ecfd4"
      },
      "source": [
        "#10 area of circle\r\n",
        "PI = 3.14\r\n",
        "radius = float(input(' Please Enter the radius of a circle: '))\r\n",
        "area = PI * radius * radius\r\n",
        "print(\" Area Of a Circle = %f\" %area)"
      ],
      "execution_count": null,
      "outputs": [
        {
          "output_type": "stream",
          "text": [
            " Please Enter the radius of a circle: 5\n",
            " Area Of a Circle = 78.500000\n"
          ],
          "name": "stdout"
        }
      ]
    },
    {
      "cell_type": "code",
      "metadata": {
        "colab": {
          "base_uri": "https://localhost:8080/"
        },
        "id": "2H5ZmWljFR8Z",
        "outputId": "111f3c7b-98bf-434a-e418-b88c17bbb615"
      },
      "source": [
        "#14\r\n",
        "a = int(input(\"enter an integer :\"))\r\n",
        "n1 =  int( \"%s\" % a )\r\n",
        "n2 = int(\"%s%s\" % (a,a) )\r\n",
        "n3 = int(\"%s%s%s\" % (a,a,a) )\r\n",
        "print (n1+n2+n3)"
      ],
      "execution_count": null,
      "outputs": [
        {
          "output_type": "stream",
          "text": [
            "enter an integer :5\n",
            "615\n"
          ],
          "name": "stdout"
        }
      ]
    },
    {
      "cell_type": "code",
      "metadata": {
        "colab": {
          "base_uri": "https://localhost:8080/"
        },
        "id": "YDCn6dEfkGGg",
        "outputId": "20b94129-9042-4831-db06-58d376807eac"
      },
      "source": [
        "# 11largest amoung three number\r\n",
        "num1 = input(\"enter first number\")\r\n",
        "num2 = input(\"enter second number\")\r\n",
        "num3 = input(\"enter third number\")\r\n",
        "if(num1>num2) and (num1>num3):\r\n",
        "  largest=num1\r\n",
        "elif (num2>num1) and (num2>num3):\r\n",
        "  largest=num2  \r\n",
        "else: \r\n",
        "   largest = num3\r\n",
        "   print(\"largest is\" ,largest)\r\n"
      ],
      "execution_count": null,
      "outputs": [
        {
          "output_type": "stream",
          "text": [
            "enter first number12\n",
            "enter second number50\n",
            "enter third number55\n",
            "largest is 55\n"
          ],
          "name": "stdout"
        }
      ]
    },
    {
      "cell_type": "code",
      "metadata": {
        "colab": {
          "base_uri": "https://localhost:8080/"
        },
        "id": "bYR9dzuHoYa7",
        "outputId": "b2d45614-e0eb-41b8-ea85-7477475210bd"
      },
      "source": [
        "# file name\r\n",
        "filename = input(\"enter the filename :\")\r\n",
        "f_extns = filename.split(\".\")\r\n",
        "print (\"the extension of the file : \" + repr(f_extns[-1]))"
      ],
      "execution_count": null,
      "outputs": [
        {
          "output_type": "stream",
          "text": [
            "enter the filename :p.ipynb\n",
            "the extension of the file : 'ipynb'\n"
          ],
          "name": "stdout"
        }
      ]
    },
    {
      "cell_type": "code",
      "metadata": {
        "id": "3kFAMVUGqgSA",
        "colab": {
          "base_uri": "https://localhost:8080/"
        },
        "outputId": "0f97d73d-4b35-4dad-a2f4-0f14ed631544"
      },
      "source": [
        "#9\r\n",
        "a = input(\"enter a string\")\r\n",
        "print(\"new string :\")\r\n",
        "print(a[-1:] + a[1:-1] + a[0])\r\n"
      ],
      "execution_count": null,
      "outputs": [
        {
          "output_type": "stream",
          "text": [
            "enter a stringpython\n",
            "new string :\n",
            "nythop\n"
          ],
          "name": "stdout"
        }
      ]
    },
    {
      "cell_type": "code",
      "metadata": {
        "colab": {
          "base_uri": "https://localhost:8080/"
        },
        "id": "23J041tzB4i4",
        "outputId": "805ff390-3ac9-499b-9ef6-82d4c140dd6b"
      },
      "source": [
        "#20\r\n",
        "list = [11, 22, 33, 44, 55]\r\n",
        "print(\"orginal list:\",list)\r\n",
        "for i in list:\r\n",
        "  if(i%2 == 0):\r\n",
        "    list.remove(i)\r\n",
        "print(\"list after removing even number:\" , list)\r\n",
        "    "
      ],
      "execution_count": null,
      "outputs": [
        {
          "output_type": "stream",
          "text": [
            "orginal list: [11, 22, 33, 44, 55]\n",
            "list after removing even number: [11, 33, 55]\n"
          ],
          "name": "stdout"
        }
      ]
    },
    {
      "cell_type": "code",
      "metadata": {
        "colab": {
          "base_uri": "https://localhost:8080/"
        },
        "id": "WfS-pN8AC3DW",
        "outputId": "31430705-b9a4-4230-fcc4-6ef59a052fbf"
      },
      "source": [
        "#3a\r\n",
        "mylist =[12, 34, 56, -9, -7]\r\n",
        "print(\"firstlist:\" , mylist)\r\n",
        "newlist =[x for x in mylist if x > 0]\r\n",
        "print(\"newlist :\",newlist)"
      ],
      "execution_count": null,
      "outputs": [
        {
          "output_type": "stream",
          "text": [
            "firstlist: [12, 34, 56, -9, -7]\n",
            "newlist : [12, 34, 56]\n"
          ],
          "name": "stdout"
        }
      ]
    },
    {
      "cell_type": "code",
      "metadata": {
        "colab": {
          "base_uri": "https://localhost:8080/"
        },
        "id": "2yABf0gcD2t_",
        "outputId": "d0831ebe-378c-4f70-c341-5c5dad372698"
      },
      "source": [
        "#1\r\n",
        "y = int(input(\"enter final leap year:\"))\r\n",
        "print (\"future leap year from 2021\")\r\n",
        "for  x  in range(2021 , y+1):\r\n",
        "   if ((x%4==0) and (x%100!=0 )):\r\n",
        "     print(x)"
      ],
      "execution_count": null,
      "outputs": [
        {
          "output_type": "stream",
          "text": [
            "enter final leap year:2030\n",
            "future leap year from 2021\n",
            "2024\n",
            "2028\n"
          ],
          "name": "stdout"
        }
      ]
    },
    {
      "cell_type": "code",
      "metadata": {
        "id": "JQ1sferJFT9p",
        "colab": {
          "base_uri": "https://localhost:8080/"
        },
        "outputId": "f0d7e758-8706-48f9-f261-7de313ec1baf"
      },
      "source": [
        "#3b\r\n",
        "mylist=[2, 5, 8, 7, 5]\r\n",
        "print(\"firstlist : \",  mylist)\r\n",
        "newlist=[number ** 2 for number in mylist]\r\n",
        "print(\"new list :\" ,newlist)"
      ],
      "execution_count": null,
      "outputs": [
        {
          "output_type": "stream",
          "text": [
            "firstlist :  [2, 5, 8, 7, 5]\n",
            "new list : [4, 25, 64, 49, 25]\n"
          ],
          "name": "stdout"
        }
      ]
    }
  ]
}